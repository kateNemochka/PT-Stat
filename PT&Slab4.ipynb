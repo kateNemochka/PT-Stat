{
 "cells": [
  {
   "cell_type": "markdown",
   "metadata": {},
   "source": [
    "# **ТЕОРІЯ ЙМОВІРНОСТІ ТА МАТЕМАТИЧНА СТАТИСТИКА**\n",
    "## *Лабораторна робота №4* - Кореляційно-регресійний аналіз"
   ]
  },
  {
   "cell_type": "markdown",
   "metadata": {},
   "source": [
    "### **Завдання**\n",
    "##### *Розробити зошит Mathematica, де на основі змодельованих даних розмірності `nxm` (`n` та `m`  ݉задаються) реалізувати алгоритми обчислення функції регресії, коефіцієнта множинної детермінації, парних коефіцієнтів кореляції та коефіцієнтів часткової кореляції. Якість побудованої регресії перевірити за допомогою коефіцієнта детермінації. Дані завідомо змоделювати таким чином, аби між стовпцями була лінійна залежність (однаково розподілені плюс або мінус порівняно невеликі випадкові числа)*"
   ]
  },
  {
   "cell_type": "code",
   "execution_count": null,
   "metadata": {},
   "outputs": [],
   "source": []
  }
 ],
 "metadata": {
  "kernelspec": {
   "display_name": "Python 3",
   "language": "python",
   "name": "python3"
  },
  "language_info": {
   "codemirror_mode": {
    "name": "ipython",
    "version": 3
   },
   "file_extension": ".py",
   "mimetype": "text/x-python",
   "name": "python",
   "nbconvert_exporter": "python",
   "pygments_lexer": "ipython3",
   "version": "3.7.2"
  }
 },
 "nbformat": 4,
 "nbformat_minor": 2
}
