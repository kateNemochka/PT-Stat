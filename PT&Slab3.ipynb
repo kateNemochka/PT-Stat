{
 "cells": [
  {
   "cell_type": "markdown",
   "metadata": {},
   "source": [
    "# **ТЕОРІЯ ЙМОВІРНОСТІ ТА МАТЕМАТИЧНА СТАТИСТИКА**\n",
    "## *Лабораторна робота №3* - Елементи дисперсійного аналізу"
   ]
  },
  {
   "cell_type": "markdown",
   "metadata": {},
   "source": [
    "### **Завдання**\n",
    "##### *Розробити зошит Mathematica для проведення дисперсійного аналізу(визначення впливу фактора на ознаку). Вихідні дані змоделювати у вигляді 5-ти груп, кожна з яких відповідає за певний ступінь дії фактора(дані в кожній групі моделюються як певне фіксоване значення плюс або мінус невелике по відношенню до початкового значення випадкове число)*"
   ]
  },
  {
   "cell_type": "code",
   "execution_count": null,
   "metadata": {},
   "outputs": [],
   "source": []
  }
 ],
 "metadata": {
  "kernelspec": {
   "display_name": "Python 3",
   "language": "python",
   "name": "python3"
  },
  "language_info": {
   "codemirror_mode": {
    "name": "ipython",
    "version": 3
   },
   "file_extension": ".py",
   "mimetype": "text/x-python",
   "name": "python",
   "nbconvert_exporter": "python",
   "pygments_lexer": "ipython3",
   "version": "3.7.2"
  }
 },
 "nbformat": 4,
 "nbformat_minor": 2
}
