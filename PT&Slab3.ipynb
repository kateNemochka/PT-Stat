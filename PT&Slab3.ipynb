{
 "cells": [
  {
   "cell_type": "markdown",
   "metadata": {},
   "source": [
    "# **ТЕОРІЯ ЙМОВІРНОСТІ ТА МАТЕМАТИЧНА СТАТИСТИКА**\n",
    "## *Лабораторна робота №3* - Елементи дисперсійного аналізу"
   ]
  },
  {
   "cell_type": "markdown",
   "metadata": {},
   "source": [
    "### **Завдання**\n",
    "##### *Розробити зошит Mathematica для проведення дисперсійного аналізу(визначення впливу фактора на ознаку). Вихідні дані змоделювати у вигляді 5-ти груп, кожна з яких відповідає за певний ступінь дії фактора(дані в кожній групі моделюються як певне фіксоване значення плюс або мінус невелике по відношенню до початкового значення випадкове число)*"
   ]
  },
  {
   "cell_type": "code",
   "execution_count": 1,
   "metadata": {},
   "outputs": [],
   "source": [
    "import numpy as np\n",
    "from scipy.stats import f"
   ]
  },
  {
   "cell_type": "markdown",
   "metadata": {},
   "source": [
    "#### Генерування набору даних"
   ]
  },
  {
   "cell_type": "code",
   "execution_count": 2,
   "metadata": {},
   "outputs": [
    {
     "name": "stdout",
     "output_type": "stream",
     "text": [
      "[[46.22752839 21.12553932 44.57573453 31.04260946 33.94533467 40.0617166 ]\n",
      " [23.38265485 28.97474201 26.05231499 26.38086012 37.31887224 33.6876188 ]\n",
      " [38.84073309 46.09127899 47.54433352 34.56705455 33.47227246 41.1688405 ]\n",
      " [21.59800319 28.74623759 30.8456017  48.08412621 48.3580705  27.31281363]\n",
      " [48.39476407 32.88959999 41.15234925 26.15921081 20.09325028 22.6988512 ]]\n"
     ]
    }
   ],
   "source": [
    "gen = np.random.rand(5,6) * 30 + 20\n",
    "print(gen)"
   ]
  },
  {
   "cell_type": "markdown",
   "metadata": {},
   "source": [
    "*Дані з прикладу для перевірки*"
   ]
  },
  {
   "cell_type": "code",
   "execution_count": 3,
   "metadata": {},
   "outputs": [],
   "source": [
    "sample = np.array([\n",
    "    [25.5, 36.2, 22.8, 30.2, 32.5, 28.4],\n",
    "    [28.5, 40.6, 42.8, 36.4, 22.4, 29.6],\n",
    "    [24.4, 38.6, 48.4, 50.2, 28.4, 22.8],\n",
    "    [29.5, 52.8, 24.2, 22.8, 56.2, 48.4]\n",
    "])"
   ]
  },
  {
   "cell_type": "code",
   "execution_count": 4,
   "metadata": {},
   "outputs": [],
   "source": [
    "groups = gen\n",
    "grp_num = len(groups)"
   ]
  },
  {
   "cell_type": "markdown",
   "metadata": {},
   "source": [
    "#### Створення списків з довжинами та середніми"
   ]
  },
  {
   "cell_type": "code",
   "execution_count": 5,
   "metadata": {},
   "outputs": [
    {
     "name": "stdout",
     "output_type": "stream",
     "text": [
      "[6 6 6 6 6]\n",
      "[36.16307716 29.2995105  40.28075218 34.15747547 31.89800427]\n"
     ]
    }
   ],
   "source": [
    "n = np.array([len(groups[i]) for i in range(grp_num)])\n",
    "m = np.mean(groups, axis=1)\n",
    "print(n)\n",
    "print(m)"
   ]
  },
  {
   "cell_type": "markdown",
   "metadata": {},
   "source": [
    "#### Обчислення внутрішньогрупового середньоквадратичного відхилення в квадраті"
   ]
  },
  {
   "cell_type": "code",
   "execution_count": 6,
   "metadata": {},
   "outputs": [
    {
     "name": "stdout",
     "output_type": "stream",
     "text": [
      "80.2714960569513\n"
     ]
    }
   ],
   "source": [
    "numer = np.sum((groups - np.transpose(np.resize(m, (n[0], grp_num)))) ** 2)\n",
    "denom = sum(n) - grp_num\n",
    "D1 = numer / denom\n",
    "print(D1)"
   ]
  },
  {
   "cell_type": "markdown",
   "metadata": {},
   "source": [
    "#### Обчислення міжгрупового середньоквадратичного відхилення в квадраті"
   ]
  },
  {
   "cell_type": "code",
   "execution_count": 7,
   "metadata": {},
   "outputs": [
    {
     "name": "stdout",
     "output_type": "stream",
     "text": [
      "420.10431913198295\n"
     ]
    }
   ],
   "source": [
    "D2 = np.sum((m - np.mean(groups)) ** 2 * n)\n",
    "print(D2)"
   ]
  },
  {
   "cell_type": "markdown",
   "metadata": {},
   "source": [
    "#### Значення статистики"
   ]
  },
  {
   "cell_type": "code",
   "execution_count": 8,
   "metadata": {},
   "outputs": [
    {
     "name": "stdout",
     "output_type": "stream",
     "text": [
      "5.23354291084753\n"
     ]
    }
   ],
   "source": [
    "F = D2 / D1\n",
    "print(F)"
   ]
  },
  {
   "cell_type": "markdown",
   "metadata": {},
   "source": [
    "#### Межа критичної області"
   ]
  },
  {
   "cell_type": "code",
   "execution_count": 9,
   "metadata": {},
   "outputs": [
    {
     "name": "stdout",
     "output_type": "stream",
     "text": [
      "4.1774202346456395\n"
     ]
    }
   ],
   "source": [
    "fdist = f(grp_num-1, sum(n)-grp_num)\n",
    "alpha = 0.01\n",
    "fcritical = fdist.ppf(1-alpha)\n",
    "print(fcritical)"
   ]
  },
  {
   "cell_type": "markdown",
   "metadata": {},
   "source": [
    "#### Визначення наявності впливу фактору"
   ]
  },
  {
   "cell_type": "code",
   "execution_count": 10,
   "metadata": {},
   "outputs": [
    {
     "name": "stdout",
     "output_type": "stream",
     "text": [
      "Вплив є істотним\n"
     ]
    }
   ],
   "source": [
    "print(\"Вплив є істотним\") if F > fcritical else print(\"Вплив не є істотним\")"
   ]
  },
  {
   "cell_type": "code",
   "execution_count": null,
   "metadata": {},
   "outputs": [],
   "source": []
  }
 ],
 "metadata": {
  "kernelspec": {
   "display_name": "Python 3",
   "language": "python",
   "name": "python3"
  },
  "language_info": {
   "codemirror_mode": {
    "name": "ipython",
    "version": 3
   },
   "file_extension": ".py",
   "mimetype": "text/x-python",
   "name": "python",
   "nbconvert_exporter": "python",
   "pygments_lexer": "ipython3",
   "version": "3.7.2"
  }
 },
 "nbformat": 4,
 "nbformat_minor": 2
}
