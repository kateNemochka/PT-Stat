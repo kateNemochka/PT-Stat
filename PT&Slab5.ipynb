{
 "cells": [
  {
   "cell_type": "markdown",
   "metadata": {},
   "source": [
    "# **ТЕОРІЯ ЙМОВІРНОСТІ ТА МАТЕМАТИЧНА СТАТИСТИКА**\n",
    "## *Лабораторна робота №5* - Кореляційний аналіз порядкових змінних"
   ]
  },
  {
   "cell_type": "markdown",
   "metadata": {},
   "source": [
    "### **Завдання**\n",
    "##### *Розробити зошит Mathematica, де на основі двох змодельованих ранжувань розмірності ݊(задається), що містять об’єднані ранги, реалізувати алгоритми обчислення коефіцієнтів Спірмена та Кенделла*"
   ]
  },
  {
   "cell_type": "code",
   "execution_count": 1,
   "metadata": {},
   "outputs": [],
   "source": [
    "import numpy as np"
   ]
  },
  {
   "cell_type": "markdown",
   "metadata": {},
   "source": [
    "#### Приклад (коеф. кор. Спірмена)"
   ]
  },
  {
   "cell_type": "code",
   "execution_count": 2,
   "metadata": {},
   "outputs": [
    {
     "name": "stdout",
     "output_type": "stream",
     "text": [
      "0.9151515151515152\n"
     ]
    }
   ],
   "source": [
    "x1 = [1,2,3,4,5,6,7,8,9,10]\n",
    "x2 = [2,3,1,4,6,5,9,7,8,10]\n",
    "n = len(x1)\n",
    "rs = 1 - 6 / (n ** 3 - n) * sum([(x1[i] - x2[i])**2 for i in range(n)]) \n",
    "print(rs)"
   ]
  },
  {
   "cell_type": "markdown",
   "metadata": {},
   "source": [
    "#### Генерація даних"
   ]
  },
  {
   "cell_type": "code",
   "execution_count": 3,
   "metadata": {},
   "outputs": [],
   "source": [
    "def generate_order(n):\n",
    "    orders = np.random.randint(1, n+1, n)\n",
    "    max_order = max(orders)\n",
    "    i = 1\n",
    "    while i < max_order:\n",
    "        if i not in orders:\n",
    "            orders[orders > i] -= 1\n",
    "            max_order -= 1\n",
    "            continue\n",
    "        i += 1\n",
    "    return orders\n",
    "\n",
    "def make_rank(order):\n",
    "    unique, counts = np.unique(order, return_counts=True)\n",
    "    ranks = []\n",
    "    for i in range(len(counts)):\n",
    "        elems = counts[i]\n",
    "        start_rank = sum(counts[:i]) + 1\n",
    "        end_rank = sum(counts[:i+1])\n",
    "        ranks.append(sum([k for k in range(start_rank, end_rank+1)]) / elems)\n",
    "    return [ranks[list(unique).index(o)] for o in order]"
   ]
  },
  {
   "cell_type": "code",
   "execution_count": 4,
   "metadata": {},
   "outputs": [
    {
     "name": "stdout",
     "output_type": "stream",
     "text": [
      "[18 18 12 16 10 10  8 10 18 13  4 11  9  4  5  2 17  7 12 15 14  5  2  8\n",
      "  6 10 16  3  1 16] max order: 18\n",
      "[16 10  9  7  6  8 12 18  3  4 10 18  5 13 14  1 17 19  1  3  9  2  2 16\n",
      " 12  8 11  4  9 15] max order: 19\n",
      "[29.0, 29.0, 19.5, 25.0, 15.5, 15.5, 11.5, 15.5, 29.0, 21.0, 5.5, 18.0, 13.0, 5.5, 7.5, 2.5, 27.0, 10.0, 19.5, 23.0, 22.0, 7.5, 2.5, 11.5, 9.0, 15.5, 25.0, 4.0, 1.0, 25.0]\n",
      "[25.5, 17.5, 15.0, 11.0, 10.0, 12.5, 20.5, 28.5, 5.5, 7.5, 17.5, 28.5, 9.0, 22.0, 23.0, 1.5, 27.0, 30.0, 1.5, 5.5, 15.0, 3.5, 3.5, 25.5, 20.5, 12.5, 19.0, 7.5, 15.0, 24.0]\n"
     ]
    }
   ],
   "source": [
    "n = 30\n",
    "order1 = generate_order(n)\n",
    "order2 = generate_order(n)\n",
    "range1 = make_rank(order1)\n",
    "range2 = make_rank(order2)\n",
    "print(order1, 'max order: %d' % max(order1))\n",
    "print(order2, 'max order: %d' % max(order2))\n",
    "print(range1)\n",
    "print(range2)"
   ]
  },
  {
   "cell_type": "markdown",
   "metadata": {},
   "source": [
    "#### Ранговий коефіцієнт кореляції Спірмена"
   ]
  },
  {
   "cell_type": "code",
   "execution_count": 5,
   "metadata": {},
   "outputs": [
    {
     "name": "stdout",
     "output_type": "stream",
     "text": [
      "16.5\n"
     ]
    }
   ],
   "source": [
    "def t_param(ranks):\n",
    "    unique, n = np.unique(ranks, return_counts=True)\n",
    "    return 1 / 12 * sum([n[i]**3 + n[i] for i in range(len(unique))])\n",
    "\n",
    "print(t_param(range1))"
   ]
  },
  {
   "cell_type": "code",
   "execution_count": 6,
   "metadata": {},
   "outputs": [
    {
     "name": "stdout",
     "output_type": "stream",
     "text": [
      "[29.0, 29.0, 19.5, 25.0, 15.5, 15.5, 11.5, 15.5, 29.0, 21.0, 5.5, 18.0, 13.0, 5.5, 7.5, 2.5, 27.0, 10.0, 19.5, 23.0, 22.0, 7.5, 2.5, 11.5, 9.0, 15.5, 25.0, 4.0, 1.0, 25.0]\n",
      "[25.5, 17.5, 15.0, 11.0, 10.0, 12.5, 20.5, 28.5, 5.5, 7.5, 17.5, 28.5, 9.0, 22.0, 23.0, 1.5, 27.0, 30.0, 1.5, 5.5, 15.0, 3.5, 3.5, 25.5, 20.5, 12.5, 19.0, 7.5, 15.0, 24.0]\n",
      "r = 0.080838\n"
     ]
    }
   ],
   "source": [
    "def rank_spearman(r1, r2):\n",
    "    t1 = t_param(r1)\n",
    "    t2 = t_param(r2)\n",
    "    numerator = (n**3 + n) / 6 - t1 - t2 - sum([(r1[i] - r2[i]) ** 2 for i in range(len(r1))])\n",
    "    denominator = ( (0.5*(n**3 + n)-2*t1) * (n**3 + n)/6-2*t2 ) ** 0.5\n",
    "    return numerator / denominator\n",
    "\n",
    "print(list(range1))\n",
    "print(list(range2))\n",
    "print('r = %f' % rank_spearman(range1, range2))"
   ]
  },
  {
   "cell_type": "markdown",
   "metadata": {},
   "source": [
    "#### Ранговий коефіцієнт кореляції Кенделла"
   ]
  },
  {
   "cell_type": "code",
   "execution_count": null,
   "metadata": {},
   "outputs": [],
   "source": []
  }
 ],
 "metadata": {
  "kernelspec": {
   "display_name": "Python 3",
   "language": "python",
   "name": "python3"
  },
  "language_info": {
   "codemirror_mode": {
    "name": "ipython",
    "version": 3
   },
   "file_extension": ".py",
   "mimetype": "text/x-python",
   "name": "python",
   "nbconvert_exporter": "python",
   "pygments_lexer": "ipython3",
   "version": "3.7.2"
  }
 },
 "nbformat": 4,
 "nbformat_minor": 2
}
